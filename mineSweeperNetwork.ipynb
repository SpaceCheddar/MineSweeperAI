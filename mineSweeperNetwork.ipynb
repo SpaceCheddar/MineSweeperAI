{
 "cells": [
  {
   "cell_type": "code",
   "execution_count": 1,
   "metadata": {},
   "outputs": [],
   "source": [
    "from tensorflow import keras"
   ]
  },
  {
   "cell_type": "code",
   "execution_count": 3,
   "metadata": {},
   "outputs": [
    {
     "name": "stdout",
     "output_type": "stream",
     "text": [
      "Model: \"sequential_1\"\n",
      "_________________________________________________________________\n",
      " Layer (type)                Output Shape              Param #   \n",
      "=================================================================\n",
      " flatten_1 (Flatten)         (None, 100)               0         \n",
      "                                                                 \n",
      " dense_4 (Dense)             (None, 20)                2020      \n",
      "                                                                 \n",
      " dense_5 (Dense)             (None, 20)                420       \n",
      "                                                                 \n",
      " dense_6 (Dense)             (None, 20)                420       \n",
      "                                                                 \n",
      " dense_7 (Dense)             (None, 21)                441       \n",
      "                                                                 \n",
      "=================================================================\n",
      "Total params: 3,301\n",
      "Trainable params: 3,301\n",
      "Non-trainable params: 0\n",
      "_________________________________________________________________\n"
     ]
    }
   ],
   "source": [
    "from tensorflow.keras.models import Sequential\n",
    "from tensorflow.keras.layers import Dense, Flatten\n",
    "\n",
    "model = Sequential()\n",
    "#input layer\n",
    "model.add(Flatten(input_shape = (10, 10)))\n",
    "\n",
    "#hidden layers\n",
    "model.add(Dense(20, activation = \"tanh\"))\n",
    "model.add(Dense(20, activation = \"tanh\"))\n",
    "model.add(Dense(20, activation = \"sigmoid\"))\n",
    "\n",
    "#output layer\n",
    "model.add(Dense(21, activation = \"sigmoid\"))\n",
    "\n",
    "model.compile(\n",
    "    loss = 'categorical_crossentropy',\n",
    "    optimizer = 'adam',\n",
    "    metrics = ['accuracy']\n",
    ")\n",
    "\n",
    "model.summary()"
   ]
  },
  {
   "cell_type": "code",
   "execution_count": null,
   "metadata": {},
   "outputs": [],
   "source": [
    "model.save(\"mineSweeperModel.h5\")"
   ]
  },
  {
   "cell_type": "code",
   "execution_count": 1,
   "metadata": {},
   "outputs": [
    {
     "name": "stdout",
     "output_type": "stream",
     "text": [
      "Model: \"sequential\"\n",
      "_________________________________________________________________\n",
      " Layer (type)                Output Shape              Param #   \n",
      "=================================================================\n",
      " conv2d (Conv2D)             (None, 8, 8, 32)          320       \n",
      "                                                                 \n",
      " max_pooling2d (MaxPooling2D  (None, 4, 4, 32)         0         \n",
      " )                                                               \n",
      "                                                                 \n",
      " conv2d_1 (Conv2D)           (None, 2, 2, 64)          18496     \n",
      "                                                                 \n",
      " dropout (Dropout)           (None, 2, 2, 64)          0         \n",
      "                                                                 \n",
      " flatten (Flatten)           (None, 256)               0         \n",
      "                                                                 \n",
      " dense (Dense)               (None, 32)                8224      \n",
      "                                                                 \n",
      " dense_1 (Dense)             (None, 21)                693       \n",
      "                                                                 \n",
      "=================================================================\n",
      "Total params: 27,733\n",
      "Trainable params: 27,733\n",
      "Non-trainable params: 0\n",
      "_________________________________________________________________\n"
     ]
    }
   ],
   "source": [
    "from tensorflow.keras.models import Sequential\n",
    "from tensorflow.keras.layers import Dense, Flatten, Conv2D, Dropout, MaxPooling2D\n",
    "\n",
    "modelConv = Sequential()\n",
    "\n",
    "#input layer\n",
    "modelConv.add(Conv2D(\n",
    "    filters = 32,\n",
    "    kernel_size = (3, 3 ),\n",
    "    activation = \"relu\",\n",
    "    input_shape = (10, 10, 1)\n",
    "))\n",
    "\n",
    "#hidden layers\n",
    "modelConv.add(MaxPooling2D(pool_size= (2, 2)))\n",
    "modelConv.add(Conv2D(\n",
    "    filters = 64,\n",
    "    kernel_size = (3, 3),\n",
    "    activation = \"relu\",\n",
    "    input_shape = (10, 10, 1)\n",
    "))\n",
    "modelConv.add(Dropout(0.3))\n",
    "modelConv.add(Flatten())\n",
    "modelConv.add(Dense(32, activation = \"relu\"))\n",
    "\n",
    "#output layer\n",
    "modelConv.add(Dense(21, activation = 'sigmoid'))\n",
    "\n",
    "#stitch together model\n",
    "modelConv.compile(\n",
    "    loss = 'categorical_crossentropy',\n",
    "    optimizer = 'rmsprop',\n",
    "    metrics = ['accuracy']\n",
    ")\n",
    "\n",
    "modelConv.summary()"
   ]
  },
  {
   "cell_type": "code",
   "execution_count": 2,
   "metadata": {},
   "outputs": [],
   "source": [
    "modelConv.save(\"mineSweeperModelConv.h5\")"
   ]
  },
  {
   "cell_type": "code",
   "execution_count": 1,
   "metadata": {},
   "outputs": [],
   "source": [
    "from keras.models import load_model\n",
    "model = load_model(\"mineSweeperModel.h5\")"
   ]
  },
  {
   "cell_type": "code",
   "execution_count": 3,
   "metadata": {},
   "outputs": [],
   "source": [
    "from keras.models import load_model\n",
    "modelConv = load_model(\"mineSweeperModelConv.h5\")"
   ]
  },
  {
   "cell_type": "code",
   "execution_count": 1,
   "metadata": {},
   "outputs": [
    {
     "name": "stdout",
     "output_type": "stream",
     "text": [
      "Loaded model.\n",
      "Bombs: 12\n",
      "To clear: 53\n",
      "Started empty: 276\n",
      "[[0, 1, -2, -2, -2, -2, -2, 1, 0, 0], [0, 2, -2, -2, -2, 3, 2, 2, 1, 1], [0, 1, -2, -2, -2, 1, 0, 1, -2, -2], [0, 1, 1, 2, 1, 1, 0, 1, -2, -2], [0, 0, 0, 0, 0, 0, 0, 1, -2, -2], [0, 1, 1, 1, 0, 0, 0, 2, -2, -2], [0, 2, -2, 3, 2, 2, 1, 2, -2, -2], [0, 2, -2, -2, -2, -2, 1, 1, 1, 1], [0, 1, 1, 2, 2, 2, 1, 0, 0, 0], [0, 0, 0, 0, 0, 0, 0, 0, 0, 0]]\n",
      "-189 left\n",
      "Epoch 1/2\n",
      "1/1 [==============================] - 1s 981ms/step - loss: 5.6612 - accuracy: 1.0000\n",
      "Epoch 2/2\n",
      "1/1 [==============================] - 0s 23ms/step - loss: 5.6564 - accuracy: 1.0000\n",
      "Suggested 2, 3\n",
      "-190 left\n",
      "Epoch 1/2\n",
      "1/1 [==============================] - 0s 15ms/step - loss: 5.7251 - accuracy: 0.0000e+00\n",
      "Epoch 2/2\n",
      "1/1 [==============================] - 0s 19ms/step - loss: 5.7216 - accuracy: 0.0000e+00\n",
      "Suggested 2, 3\n",
      "-191 left\n",
      "Epoch 1/2\n",
      "1/1 [==============================] - 0s 16ms/step - loss: 6.5878 - accuracy: 0.0000e+00\n",
      "Epoch 2/2\n",
      "1/1 [==============================] - 0s 10ms/step - loss: 6.5821 - accuracy: 0.0000e+00\n",
      "Suggested 2, 3\n",
      "-192 left\n",
      "Epoch 1/2\n",
      "1/1 [==============================] - 0s 10ms/step - loss: 6.0693 - accuracy: 1.0000\n",
      "Epoch 2/2\n",
      "1/1 [==============================] - 0s 14ms/step - loss: 6.0653 - accuracy: 1.0000\n",
      "Suggested 2, 3\n",
      "-193 left\n",
      "Epoch 1/2\n",
      "1/1 [==============================] - 0s 14ms/step - loss: 6.1350 - accuracy: 0.0000e+00\n",
      "Epoch 2/2\n",
      "1/1 [==============================] - 0s 34ms/step - loss: 6.1315 - accuracy: 0.0000e+00\n",
      "Suggested 2, 3\n",
      "-194 left\n",
      "Epoch 1/2\n",
      "1/1 [==============================] - 0s 21ms/step - loss: 5.9771 - accuracy: 0.0000e+00\n",
      "Epoch 2/2\n",
      "1/1 [==============================] - 0s 18ms/step - loss: 5.9714 - accuracy: 0.0000e+00\n",
      "Suggested 2, 3\n",
      "-195 left\n",
      "Epoch 1/2\n",
      "1/1 [==============================] - 0s 11ms/step - loss: 6.3572 - accuracy: 0.0000e+00\n",
      "Epoch 2/2\n",
      "1/1 [==============================] - 0s 8ms/step - loss: 6.3525 - accuracy: 0.0000e+00\n",
      "Suggested 2, 3\n",
      "-196 left\n",
      "Epoch 1/2\n",
      "1/1 [==============================] - 0s 6ms/step - loss: 6.1797 - accuracy: 0.0000e+00\n",
      "Epoch 2/2\n",
      "1/1 [==============================] - 0s 13ms/step - loss: 6.1756 - accuracy: 0.0000e+00\n",
      "Suggested 2, 3\n",
      "-197 left\n",
      "Epoch 1/2\n",
      "1/1 [==============================] - 0s 14ms/step - loss: 6.1969 - accuracy: 0.0000e+00\n",
      "Epoch 2/2\n",
      "1/1 [==============================] - 0s 15ms/step - loss: 6.1908 - accuracy: 0.0000e+00\n",
      "Suggested 2, 3\n",
      "-198 left\n",
      "Epoch 1/2\n",
      "1/1 [==============================] - 0s 15ms/step - loss: 6.2315 - accuracy: 0.0000e+00\n",
      "Epoch 2/2\n",
      "1/1 [==============================] - 0s 20ms/step - loss: 6.2265 - accuracy: 0.0000e+00\n",
      "Suggested 2, 3\n",
      "-199 left\n",
      "Epoch 1/2\n",
      "1/1 [==============================] - 0s 23ms/step - loss: 6.5797 - accuracy: 0.0000e+00\n",
      "Epoch 2/2\n",
      "1/1 [==============================] - 0s 15ms/step - loss: 6.5743 - accuracy: 0.0000e+00\n",
      "Suggested 2, 3\n",
      "-200 left\n",
      "Epoch 1/2\n",
      "1/1 [==============================] - 0s 19ms/step - loss: 6.2399 - accuracy: 0.0000e+00\n",
      "Epoch 2/2\n",
      "1/1 [==============================] - 0s 15ms/step - loss: 6.2357 - accuracy: 0.0000e+00\n",
      "Suggested 2, 3\n",
      "-201 left\n",
      "Epoch 1/2\n",
      "1/1 [==============================] - 0s 5ms/step - loss: 6.6239 - accuracy: 0.0000e+00\n",
      "Epoch 2/2\n",
      "1/1 [==============================] - 0s 14ms/step - loss: 6.6199 - accuracy: 0.0000e+00\n",
      "Suggested 2, 3\n"
     ]
    }
   ],
   "source": [
    "import mineSweeper as ms\n",
    "ms.playMineField(\"mineSweeperModelConv.h5\")\n",
    "\n",
    "#answer = input(\"Save Network?\")\n",
    "#if answer == \"yes\":\n",
    "#    model.save(\"mineSweeperModel.h5\")\n",
    "\n",
    "ms.window.quit()"
   ]
  }
 ],
 "metadata": {
  "kernelspec": {
   "display_name": "Python 3.9.10 64-bit",
   "language": "python",
   "name": "python3"
  },
  "language_info": {
   "codemirror_mode": {
    "name": "ipython",
    "version": 3
   },
   "file_extension": ".py",
   "mimetype": "text/x-python",
   "name": "python",
   "nbconvert_exporter": "python",
   "pygments_lexer": "ipython3",
   "version": "3.9.10"
  },
  "orig_nbformat": 4,
  "vscode": {
   "interpreter": {
    "hash": "45d213fce5b2b99a037768f57daecc6389cba85061f09ae0e15dfa1cc3805fe6"
   }
  }
 },
 "nbformat": 4,
 "nbformat_minor": 2
}
